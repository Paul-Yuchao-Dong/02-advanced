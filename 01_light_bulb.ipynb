{
  "nbformat": 4,
  "nbformat_minor": 0,
  "metadata": {
    "celltoolbar": "Tags",
    "kernelspec": {
      "display_name": "Python 3 (ipykernel)",
      "language": "python",
      "name": "python3"
    },
    "language_info": {
      "codemirror_mode": {
        "name": "ipython",
        "version": 3
      },
      "file_extension": ".py",
      "mimetype": "text/x-python",
      "name": "python",
      "nbconvert_exporter": "python",
      "pygments_lexer": "ipython3",
      "version": "3.7.11"
    },
    "colab": {
      "name": "01_light_bulb.ipynb",
      "provenance": []
    }
  },
  "cells": [
    {
      "cell_type": "markdown",
      "metadata": {
        "id": "sAk1vAuV-iUM"
      },
      "source": [
        "# Survival Analysis"
      ]
    },
    {
      "cell_type": "markdown",
      "metadata": {
        "id": "CpPcJD3F-iUg"
      },
      "source": [
        "[Run this notebook on Colab](https://colab.research.google.com/github/AllenDowney/SurvivalAnalysisPython/blob/master/01_light_bulb.ipynb)"
      ]
    },
    {
      "cell_type": "markdown",
      "metadata": {
        "id": "kSmeWc_w-iU0"
      },
      "source": [
        "## Introduction\n",
        "\n",
        "This notebook presents four ways to represent a distribution: PMFs, CDFs, survival functions, and hazard functions.\n",
        "\n",
        "These representations are equivalent in the sense that if you are given any of them, you can compute the others.  So you might wonder why we need four ways to represent the same information.  There are two reasons:\n",
        "\n",
        "1. Each representation is useful for computing different values and answering different questions.  In this notebook I'll show you what each representation is good for.\n",
        "\n",
        "2. In some cases we can use a sample to compute a PMF, and use the PMF to compute the other representations.  In other cases it is easier to estimate the hazard function and use it to compute the others.\n",
        "\n",
        "In this notebook I will demonstrate the first process, starting with the PMF.  In the next notebook we'll see the second process, starting with the hazard function."
      ]
    },
    {
      "cell_type": "markdown",
      "metadata": {
        "id": "jQSYr4hb-iVC"
      },
      "source": [
        "## Light bulb lifetimes\n",
        "\n",
        "As a first example, I'll use I'll use data from an experiment that measures the lifetimes of 50 light bulbs.\n",
        "I downloaded the data from from [this gist](https://gist.github.com/epogrebnyak/7933e16c0ad215742c4c104be4fbdeb1), which includes this documentation:\n",
        "\n",
        "```\n",
        "Dataset from:\n",
        "    \n",
        "V.J. Menon and D.C. Agrawal,  Renewal Rate of Filament Lamps: \n",
        "Theory and Experiment. Journal of Failure Analysis and Prevention. \n",
        "December 2007, p. 421, Table 2/\n",
        "DOI: 10.1007/s11668-007-9074-9\n",
        "\n",
        "Description:\n",
        "\n",
        "An assembly of 50 new Philips (India) lamps with the \n",
        "rating 40 W, 220 V (AC) was taken and installed in the horizontal \n",
        "orientation and uniformly distributed over a lab area 11 m by 7 m. \n",
        "\n",
        "The assembly was monitored at regular intervals of 12 h to\n",
        "look for failures. The instants of recorded failures were\n",
        "called t‘ and a total of 32 data points were obtained such\n",
        "that even the last bulb failed. \n",
        "\n",
        "Variables:\n",
        "\n",
        "i - observation number\n",
        "h - time in hours since experiment start\n",
        "f - number of failed lamps at particular time h\n",
        "K - number of surviving lamps  at particular time h\n",
        "```\n",
        "\n",
        "Because of the design of this experiment, we can consider the data to be a representative sample from the distribution of lifetimes, at least for light bulbs that are lit continuously."
      ]
    },
    {
      "cell_type": "markdown",
      "metadata": {
        "id": "Ytq017Sa-iVg"
      },
      "source": [
        "The following cell downloads the data (thanks to Evgeny Pogrebnyak for making it available).  \n",
        "If that fails, you should be able to [get it from my repository](https://github.com/AllenDowney/SurvivalAnalysisPython/raw/master/lamps.csv)."
      ]
    },
    {
      "cell_type": "code",
      "metadata": {
        "id": "aJLThX2d-iVm"
      },
      "source": [
        "import os\n",
        "\n",
        "datafile = 'lamps.csv'\n",
        "if not os.path.exists(datafile):\n",
        "    !wget https://gist.github.com/epogrebnyak/7933e16c0ad215742c4c104be4fbdeb1/raw/c932bc5b6aa6317770c4cbf43eb591511fec08f9/lamps.csv"
      ],
      "execution_count": 12,
      "outputs": []
    },
    {
      "cell_type": "markdown",
      "metadata": {
        "id": "Q8BPMvqy-iV4"
      },
      "source": [
        "We can use Pandas to load the data from the CSV file."
      ]
    },
    {
      "cell_type": "code",
      "metadata": {
        "id": "bOk38KhQ-iWL"
      },
      "source": [
        "import pandas as pd\n",
        "import numpy as np\n",
        "import matplotlib.pyplot as plt"
      ],
      "execution_count": 13,
      "outputs": []
    },
    {
      "cell_type": "code",
      "metadata": {
        "colab": {
          "base_uri": "https://localhost:8080/",
          "height": 235
        },
        "id": "rvq5R7Ky-iWc",
        "outputId": "e9593847-34dd-40ef-b8cb-6590ef9fe9d2"
      },
      "source": [
        "df = pd.read_csv('lamps.csv', index_col=0)\n",
        "df.head()"
      ],
      "execution_count": 14,
      "outputs": [
        {
          "output_type": "execute_result",
          "data": {
            "text/html": [
              "<div>\n",
              "<style scoped>\n",
              "    .dataframe tbody tr th:only-of-type {\n",
              "        vertical-align: middle;\n",
              "    }\n",
              "\n",
              "    .dataframe tbody tr th {\n",
              "        vertical-align: top;\n",
              "    }\n",
              "\n",
              "    .dataframe thead th {\n",
              "        text-align: right;\n",
              "    }\n",
              "</style>\n",
              "<table border=\"1\" class=\"dataframe\">\n",
              "  <thead>\n",
              "    <tr style=\"text-align: right;\">\n",
              "      <th></th>\n",
              "      <th>h</th>\n",
              "      <th>f</th>\n",
              "      <th>K</th>\n",
              "    </tr>\n",
              "    <tr>\n",
              "      <th>i</th>\n",
              "      <th></th>\n",
              "      <th></th>\n",
              "      <th></th>\n",
              "    </tr>\n",
              "  </thead>\n",
              "  <tbody>\n",
              "    <tr>\n",
              "      <th>0</th>\n",
              "      <td>0</td>\n",
              "      <td>0</td>\n",
              "      <td>50</td>\n",
              "    </tr>\n",
              "    <tr>\n",
              "      <th>1</th>\n",
              "      <td>840</td>\n",
              "      <td>2</td>\n",
              "      <td>48</td>\n",
              "    </tr>\n",
              "    <tr>\n",
              "      <th>2</th>\n",
              "      <td>852</td>\n",
              "      <td>1</td>\n",
              "      <td>47</td>\n",
              "    </tr>\n",
              "    <tr>\n",
              "      <th>3</th>\n",
              "      <td>936</td>\n",
              "      <td>1</td>\n",
              "      <td>46</td>\n",
              "    </tr>\n",
              "    <tr>\n",
              "      <th>4</th>\n",
              "      <td>960</td>\n",
              "      <td>1</td>\n",
              "      <td>45</td>\n",
              "    </tr>\n",
              "  </tbody>\n",
              "</table>\n",
              "</div>"
            ],
            "text/plain": [
              "     h  f   K\n",
              "i            \n",
              "0    0  0  50\n",
              "1  840  2  48\n",
              "2  852  1  47\n",
              "3  936  1  46\n",
              "4  960  1  45"
            ]
          },
          "metadata": {},
          "execution_count": 14
        }
      ]
    },
    {
      "cell_type": "markdown",
      "metadata": {
        "id": "uMsYnlfY-iW9"
      },
      "source": [
        "## PMF\n",
        "\n",
        "This dataset is complete in the sense that the experiment ran until all light bulbs failed, so the lifetime for every bulb is known.\n",
        "So we can use the data to estimate the probability mass function (PMF) of lifetimes.\n",
        "\n",
        "To represent a PMF, I'll use a Pandas `Series` with the lifetimes (column `h`) as the index and the number of failures (column `f`) as the values."
      ]
    },
    {
      "cell_type": "code",
      "metadata": {
        "tags": [],
        "colab": {
          "base_uri": "https://localhost:8080/"
        },
        "id": "84EP5o9F-iXH",
        "outputId": "64c63ce2-5cd3-4b81-9acf-733660babace"
      },
      "source": [
        "pmf = df.set_index('h').f\n",
        "pmf.head()"
      ],
      "execution_count": 15,
      "outputs": [
        {
          "output_type": "execute_result",
          "data": {
            "text/plain": [
              "h\n",
              "0      0\n",
              "840    2\n",
              "852    1\n",
              "936    1\n",
              "960    1\n",
              "Name: f, dtype: int64"
            ]
          },
          "metadata": {},
          "execution_count": 15
        }
      ]
    },
    {
      "cell_type": "markdown",
      "metadata": {
        "id": "FUNdr9GC-iXM"
      },
      "source": [
        "To normalize the PMF, we divide through by the total number of lightbulbs."
      ]
    },
    {
      "cell_type": "code",
      "metadata": {
        "tags": [],
        "id": "BILXc81B-iXa"
      },
      "source": [
        "pmf = pmf / pmf.sum()"
      ],
      "execution_count": 16,
      "outputs": []
    },
    {
      "cell_type": "markdown",
      "metadata": {
        "id": "oZStP1XL-iXf"
      },
      "source": [
        "For a given lifetime, `t`, the PMF contains the fraction of lifetimes equal to `t`.\n",
        "For example, we can compute the fraction of light bulbs that lasted 840 hours:"
      ]
    },
    {
      "cell_type": "code",
      "metadata": {
        "tags": [],
        "colab": {
          "base_uri": "https://localhost:8080/"
        },
        "id": "AUogmmOP-iXq",
        "outputId": "7f28b673-9367-470c-ffc5-30fef8dff203"
      },
      "source": [
        "pmf[840]"
      ],
      "execution_count": 17,
      "outputs": [
        {
          "output_type": "execute_result",
          "data": {
            "text/plain": [
              "0.04"
            ]
          },
          "metadata": {},
          "execution_count": 17
        }
      ]
    },
    {
      "cell_type": "markdown",
      "metadata": {
        "id": "igSQ1CZI-iXr"
      },
      "source": [
        "Or the fraction equal to 1524 hours."
      ]
    },
    {
      "cell_type": "code",
      "metadata": {
        "tags": [],
        "colab": {
          "base_uri": "https://localhost:8080/"
        },
        "id": "PDs2k5DP-iXz",
        "outputId": "7e67ffe1-527f-4fff-9f51-1d70ac10b79c"
      },
      "source": [
        "pmf[1524]"
      ],
      "execution_count": 18,
      "outputs": [
        {
          "output_type": "execute_result",
          "data": {
            "text/plain": [
              "0.06"
            ]
          },
          "metadata": {},
          "execution_count": 18
        }
      ]
    },
    {
      "cell_type": "markdown",
      "metadata": {
        "id": "BVW9oKA5-iXz"
      },
      "source": [
        "Here's what the PMF looks like."
      ]
    },
    {
      "cell_type": "code",
      "metadata": {
        "id": "c0mCCWXE-iX9"
      },
      "source": [
        "def decorate(**options):\n",
        "    \"\"\"Decorate the current axes.\n",
        "    Call decorate with keyword arguments like\n",
        "    decorate(title='Title',\n",
        "             xlabel='x',\n",
        "             ylabel='y')\n",
        "    The keyword arguments can be any of the axis properties\n",
        "    https://matplotlib.org/api/axes_api.html\n",
        "    \"\"\"\n",
        "    plt.gca().set(**options)\n",
        "    plt.tight_layout()"
      ],
      "execution_count": 19,
      "outputs": []
    },
    {
      "cell_type": "code",
      "metadata": {
        "colab": {
          "base_uri": "https://localhost:8080/",
          "height": 297
        },
        "id": "rOAPH4JK-iX-",
        "outputId": "8131ef4c-4476-460c-ac6f-88dc3b682dd9"
      },
      "source": [
        "pmf.plot()\n",
        "decorate(xlabel='Lifetime (hours)', \n",
        "         ylabel='PMF', \n",
        "         title='PMF of lightbulb lifetimes')"
      ],
      "execution_count": 20,
      "outputs": [
        {
          "output_type": "display_data",
          "data": {
            "image/png": "[encoded data removed]",
            "text/plain": [
              "<Figure size 432x288 with 1 Axes>"
            ]
          },
          "metadata": {
            "needs_background": "light"
          }
        }
      ]
    },
    {
      "cell_type": "markdown",
      "metadata": {
        "id": "IV0J0gIs-iYH"
      },
      "source": [
        "This way of visualizing the data can be useful for validation, and it gives a sense of the location and spread of the data.  But it does not make the shape of the distrbution clear.  For that, the CDF is better."
      ]
    },
    {
      "cell_type": "markdown",
      "metadata": {
        "id": "O1hmc41k-iYI"
      },
      "source": [
        "## CDF\n",
        "\n",
        "The Cumulative Distribution Function (CDF) is the cumulative sum of the PMF."
      ]
    },
    {
      "cell_type": "code",
      "metadata": {
        "tags": [],
        "colab": {
          "base_uri": "https://localhost:8080/"
        },
        "id": "72egZ3WN-iYI",
        "outputId": "7e3d955b-aacc-423e-ca2f-c06d81c31e90"
      },
      "source": [
        "cdf = pmf.cumsum()\n",
        "cdf.head()"
      ],
      "execution_count": 21,
      "outputs": [
        {
          "output_type": "execute_result",
          "data": {
            "text/plain": [
              "h\n",
              "0      0.00\n",
              "840    0.04\n",
              "852    0.06\n",
              "936    0.08\n",
              "960    0.10\n",
              "Name: f, dtype: float64"
            ]
          },
          "metadata": {},
          "execution_count": 21
        }
      ]
    },
    {
      "cell_type": "markdown",
      "metadata": {
        "id": "JKRlzxly-iYR"
      },
      "source": [
        "For a given lifetime, `t`, the CDF contains the fraction of lifetimes less than or equal to `t`.\n",
        "For example, here is the fraction of light bulbs that expired at or before 840 hours:"
      ]
    },
    {
      "cell_type": "code",
      "metadata": {
        "tags": [],
        "colab": {
          "base_uri": "https://localhost:8080/"
        },
        "id": "sZw6OKCv-iYR",
        "outputId": "931c8c09-ed20-4835-856e-be605c95b62c"
      },
      "source": [
        "cdf[840]"
      ],
      "execution_count": 22,
      "outputs": [
        {
          "output_type": "execute_result",
          "data": {
            "text/plain": [
              "0.04"
            ]
          },
          "metadata": {},
          "execution_count": 22
        }
      ]
    },
    {
      "cell_type": "markdown",
      "metadata": {
        "id": "3VFSRrv8-iYW"
      },
      "source": [
        "And the fraction that expired at or before 1524 hours."
      ]
    },
    {
      "cell_type": "code",
      "metadata": {
        "tags": [],
        "colab": {
          "base_uri": "https://localhost:8080/"
        },
        "id": "dNTLeJae-iYW",
        "outputId": "d413b8c3-2355-4e0f-e0a8-b784b44c856b"
      },
      "source": [
        "cdf[1524]"
      ],
      "execution_count": 23,
      "outputs": [
        {
          "output_type": "execute_result",
          "data": {
            "text/plain": [
              "0.6000000000000001"
            ]
          },
          "metadata": {},
          "execution_count": 23
        }
      ]
    },
    {
      "cell_type": "markdown",
      "metadata": {
        "id": "5CvHfuT4-iYX"
      },
      "source": [
        "Here's what the CDF looks like."
      ]
    },
    {
      "cell_type": "code",
      "metadata": {
        "colab": {
          "base_uri": "https://localhost:8080/",
          "height": 297
        },
        "id": "tyqC67h_-iYg",
        "outputId": "76798fc8-9d1a-49af-f8e3-2c5c9eb669de"
      },
      "source": [
        "cdf.plot()\n",
        "decorate(xlabel='Lifetime (hours)', \n",
        "         ylabel='CDF', \n",
        "         title='CDF of lightbulb lifetimes')"
      ],
      "execution_count": 24,
      "outputs": [
        {
          "output_type": "display_data",
          "data": {
            "image/png": "[encoded data removed]",
            "text/plain": [
              "<Figure size 432x288 with 1 Axes>"
            ]
          },
          "metadata": {
            "needs_background": "light"
          }
        }
      ]
    },
    {
      "cell_type": "markdown",
      "metadata": {
        "id": "Hv2EPaZo-iYg"
      },
      "source": [
        "In my opinion, the CDF is often the best way to visualize the distribution of a sample.\n",
        "\n",
        "Between 800 and 1800 hours, the CDF is roughly a straight line, which suggests that the distribution is uniform in this range."
      ]
    },
    {
      "cell_type": "markdown",
      "metadata": {
        "id": "w3AMN-vV-iYm"
      },
      "source": [
        "## Survival function\n",
        "\n",
        "The survival function is the complement of the CDF; that is, for a given lifetime, `t`:\n",
        "\n",
        "* The CDF is the fraction of the population less than or equal to `t`.\n",
        "\n",
        "* The survival function is the fraction (strictly) greater than `t`.\n",
        "\n",
        "We can compute the survival function like this:"
      ]
    },
    {
      "cell_type": "code",
      "metadata": {
        "tags": [],
        "id": "aEXgjWk9-iYn"
      },
      "source": [
        "surv = 1 - cdf"
      ],
      "execution_count": 26,
      "outputs": []
    },
    {
      "cell_type": "markdown",
      "metadata": {
        "id": "-IED6WIS-iYn"
      },
      "source": [
        "We can use `surv` to compute the fraction of lightbulbs that live longer than 1524 hours:"
      ]
    },
    {
      "cell_type": "code",
      "metadata": {
        "tags": [],
        "colab": {
          "base_uri": "https://localhost:8080/"
        },
        "id": "ucAnrEKb-iYo",
        "outputId": "931d4f17-fa53-42f8-9e53-a3d0d1b95ab5"
      },
      "source": [
        "surv[1524]"
      ],
      "execution_count": 27,
      "outputs": [
        {
          "output_type": "execute_result",
          "data": {
            "text/plain": [
              "0.3999999999999999"
            ]
          },
          "metadata": {},
          "execution_count": 27
        }
      ]
    },
    {
      "cell_type": "markdown",
      "metadata": {
        "id": "0NfQ1iFs-iYo"
      },
      "source": [
        "If we plot the survival function along with the CDF, we can see that they are complements."
      ]
    },
    {
      "cell_type": "code",
      "metadata": {
        "colab": {
          "base_uri": "https://localhost:8080/",
          "height": 297
        },
        "id": "nmKFl0Fa-iYo",
        "outputId": "35431491-997b-4ebd-991a-9b6769ed4de5"
      },
      "source": [
        "cdf.plot(color='gray', alpha=0.4)\n",
        "surv.plot()\n",
        "decorate(xlabel='Lifetime (hours)', \n",
        "         ylabel='Prob(lifetime>t)', \n",
        "         title='Survival function of lightbulb lifetimes')"
      ],
      "execution_count": 28,
      "outputs": [
        {
          "output_type": "display_data",
          "data": {
            "image/png": "[encoded data removed]",
            "text/plain": [
              "<Figure size 432x288 with 1 Axes>"
            ]
          },
          "metadata": {
            "needs_background": "light"
          }
        }
      ]
    },
    {
      "cell_type": "markdown",
      "metadata": {
        "id": "ZSu19aZN-iYt"
      },
      "source": [
        "It might not be obvious why the survival function is useful.  Given the CDF and a little arithmetic, we can answer all of the same questions.\n",
        "\n",
        "There are two reasons:\n",
        "\n",
        "* In some domains it is more natural, or at least conventional, to represent distributions in terms of survival rates.\n",
        "\n",
        "* The survival function is a step on the way to the hazard function, which we'll get to now."
      ]
    },
    {
      "cell_type": "markdown",
      "metadata": {
        "id": "BkOkb4xO-iYu"
      },
      "source": [
        "## Hazard function\n",
        "\n",
        "For a given lifetime `t`, the hazard function computes the \"hazard rate\" at `t`.  Using the vocabulary of the light bulb example, the hazard rate is the fraction of light bulbs that survive until `t` and then fail at `t`.\n",
        "\n",
        "We can compute the hazard rate by computing these quantities:\n",
        "\n",
        "* `pmf(t)` is the fraction of light bulbs that fail at `t`.\n",
        "\n",
        "* `surv(t)` is the fraction of light bulbs that live longer than `t`.\n",
        "\n",
        "* The sum, `pmf(t) + surv(t)` is the fraction that survive until `t`. \n",
        "\n",
        "So the hazard rate is the ratio of `pmf(t)` to the sum `pmf(t) + surv(t)`.\n",
        "We can compute it like this:"
      ]
    },
    {
      "cell_type": "code",
      "metadata": {
        "tags": [],
        "colab": {
          "base_uri": "https://localhost:8080/"
        },
        "id": "y2j4AqTL-iYu",
        "outputId": "f9fb5549-63f6-4007-df7f-cd736db844d0"
      },
      "source": [
        "haz = pmf / (pmf + surv)\n",
        "haz.head()"
      ],
      "execution_count": 29,
      "outputs": [
        {
          "output_type": "execute_result",
          "data": {
            "text/plain": [
              "h\n",
              "0      0.000000\n",
              "840    0.040000\n",
              "852    0.020833\n",
              "936    0.021277\n",
              "960    0.021739\n",
              "Name: f, dtype: float64"
            ]
          },
          "metadata": {},
          "execution_count": 29
        }
      ]
    },
    {
      "cell_type": "markdown",
      "metadata": {
        "id": "piFT_dAa-iYz"
      },
      "source": [
        "Here's what the hazard function looks like:"
      ]
    },
    {
      "cell_type": "code",
      "metadata": {
        "colab": {
          "base_uri": "https://localhost:8080/",
          "height": 297
        },
        "id": "Ldt7yh5X-iYz",
        "outputId": "881304b0-21ac-4f67-d7ff-3f7794db82a7"
      },
      "source": [
        "haz.plot()\n",
        "decorate(xlabel='Lifetime (hours)', \n",
        "         ylabel='Hazard rate', \n",
        "         title='Hazard function of lightbulb lifetimes')"
      ],
      "execution_count": 30,
      "outputs": [
        {
          "output_type": "display_data",
          "data": {
            "image/png": "[encoded data removed]",
            "text/plain": [
              "<Figure size 432x288 with 1 Axes>"
            ]
          },
          "metadata": {
            "needs_background": "light"
          }
        }
      ]
    },
    {
      "cell_type": "markdown",
      "metadata": {
        "id": "lAZpswzA-iY0"
      },
      "source": [
        "With this kind of data, plotting the hazard function does not provide a clear picture of what's happening.  There are two problems:\n",
        "\n",
        "1) The plot shows spikes at the locations of the data, but it is hard to see the shape of the curve.\n",
        "\n",
        "2) The large values on the right are unreliable because they are based on a small number of values.\n",
        "\n",
        "To explain the second point, let's look at the last few rows of the failure column, `f`:"
      ]
    },
    {
      "cell_type": "code",
      "metadata": {
        "colab": {
          "base_uri": "https://localhost:8080/",
          "height": 235
        },
        "id": "94iAdK-Q-iY0",
        "outputId": "c7907060-7618-4706-a557-011a00e4e293"
      },
      "source": [
        "df.tail()"
      ],
      "execution_count": 31,
      "outputs": [
        {
          "output_type": "execute_result",
          "data": {
            "text/html": [
              "<div>\n",
              "<style scoped>\n",
              "    .dataframe tbody tr th:only-of-type {\n",
              "        vertical-align: middle;\n",
              "    }\n",
              "\n",
              "    .dataframe tbody tr th {\n",
              "        vertical-align: top;\n",
              "    }\n",
              "\n",
              "    .dataframe thead th {\n",
              "        text-align: right;\n",
              "    }\n",
              "</style>\n",
              "<table border=\"1\" class=\"dataframe\">\n",
              "  <thead>\n",
              "    <tr style=\"text-align: right;\">\n",
              "      <th></th>\n",
              "      <th>h</th>\n",
              "      <th>f</th>\n",
              "      <th>K</th>\n",
              "    </tr>\n",
              "    <tr>\n",
              "      <th>i</th>\n",
              "      <th></th>\n",
              "      <th></th>\n",
              "      <th></th>\n",
              "    </tr>\n",
              "  </thead>\n",
              "  <tbody>\n",
              "    <tr>\n",
              "      <th>28</th>\n",
              "      <td>1812</td>\n",
              "      <td>1</td>\n",
              "      <td>4</td>\n",
              "    </tr>\n",
              "    <tr>\n",
              "      <th>29</th>\n",
              "      <td>1836</td>\n",
              "      <td>1</td>\n",
              "      <td>3</td>\n",
              "    </tr>\n",
              "    <tr>\n",
              "      <th>30</th>\n",
              "      <td>1860</td>\n",
              "      <td>1</td>\n",
              "      <td>2</td>\n",
              "    </tr>\n",
              "    <tr>\n",
              "      <th>31</th>\n",
              "      <td>1980</td>\n",
              "      <td>1</td>\n",
              "      <td>1</td>\n",
              "    </tr>\n",
              "    <tr>\n",
              "      <th>32</th>\n",
              "      <td>2568</td>\n",
              "      <td>1</td>\n",
              "      <td>0</td>\n",
              "    </tr>\n",
              "  </tbody>\n",
              "</table>\n",
              "</div>"
            ],
            "text/plain": [
              "       h  f  K\n",
              "i             \n",
              "28  1812  1  4\n",
              "29  1836  1  3\n",
              "30  1860  1  2\n",
              "31  1980  1  1\n",
              "32  2568  1  0"
            ]
          },
          "metadata": {},
          "execution_count": 31
        }
      ]
    },
    {
      "cell_type": "markdown",
      "metadata": {
        "id": "EzTpzQPT-iY0"
      },
      "source": [
        "We can see that one bulb failed at each of 1812, 1836, 1860, 1980, and 2568 hours.\n",
        "\n",
        "So the last value of the hazard function is based on only one bulb; the second-to-last point is based on 2 bulbs; and so on."
      ]
    },
    {
      "cell_type": "markdown",
      "metadata": {
        "id": "bRXEjwoO-iY1"
      },
      "source": [
        "## The cumulative hazard function\n",
        "\n",
        "To get a better sense for the shape of the curve, we can plot the cumulative hazard function, like this:"
      ]
    },
    {
      "cell_type": "code",
      "metadata": {
        "colab": {
          "base_uri": "https://localhost:8080/",
          "height": 297
        },
        "id": "mrYgWP8K-iY1",
        "outputId": "3a65b212-f25a-40d2-d6d7-d39187903047"
      },
      "source": [
        "haz.cumsum().plot()\n",
        "\n",
        "decorate(xlabel='Lifetime (hours)', \n",
        "         ylabel='Cumulative hazard rate', \n",
        "         title='Hazard function of lightbulb lifetimes')"
      ],
      "execution_count": 32,
      "outputs": [
        {
          "output_type": "display_data",
          "data": {
            "image/png": "[encoded data removed]",
            "text/plain": [
              "<Figure size 432x288 with 1 Axes>"
            ]
          },
          "metadata": {
            "needs_background": "light"
          }
        }
      ]
    },
    {
      "cell_type": "markdown",
      "metadata": {
        "id": "lGPaZF32-iY2"
      },
      "source": [
        "The slope of the cumulative hazard function is proportional to the hazard rate, so we can use this curve to see when the hazard rate is low or high, and when it is increasing or decreasing.\n",
        "\n",
        "Between 0 and 1000 hours, the slope is low, so the hazard rate is low.\n",
        "\n",
        "Between 1000 and 2000 hours, the slope is increasing, so the hazard rate is increasing."
      ]
    },
    {
      "cell_type": "markdown",
      "metadata": {
        "id": "vqnVikBj-iY2"
      },
      "source": [
        "But notice that the vertical scale goes to 4.  You might wonder that that means; the answer is \"not much\".\n",
        "\n",
        "The values of the hazard function are rates, that is, percentages of light bulbs that expire at each point in time.  When you add up these rates, the result does not have a clear interpretation.  \n",
        "\n",
        "When you look at a cumulative hazard function, you should pay attention to the slope of the curve and ignore the values."
      ]
    },
    {
      "cell_type": "markdown",
      "metadata": {
        "id": "gyxlevMq-iY6"
      },
      "source": [
        "## Resampling\n",
        "\n",
        "In the previous section, I suggested that we have to be careful not to overinterpret the right side of the hazard function, because it is based on a small number of data points.\n",
        "\n",
        "To see how precise the estimated hazard function is, we can use resampling.\n",
        "\n",
        "First I will use the Pmf of lifetimes to make a kernel density estimate (KDE) of the distribution."
      ]
    },
    {
      "cell_type": "code",
      "metadata": {
        "id": "d4Obv6pAPD03"
      },
      "source": [
        "from scipy.stats import gaussian_kde\n",
        "?gaussian_kde"
      ],
      "execution_count": 33,
      "outputs": []
    },
    {
      "cell_type": "code",
      "metadata": {
        "id": "ATG-Q6cSQGSm",
        "outputId": "35a32dc7-3110-488a-ffb2-43bdbfcdcec4",
        "colab": {
          "base_uri": "https://localhost:8080/"
        }
      },
      "source": [
        "pmf.index"
      ],
      "execution_count": 35,
      "outputs": [
        {
          "output_type": "execute_result",
          "data": {
            "text/plain": [
              "Int64Index([   0,  840,  852,  936,  960,  972,  996, 1008, 1032, 1104, 1176,\n",
              "            1200, 1260, 1296, 1308, 1332, 1356, 1380, 1416, 1476, 1524, 1548,\n",
              "            1560, 1632, 1644, 1656, 1716, 1764, 1812, 1836, 1860, 1980, 2568],\n",
              "           dtype='int64', name='h')"
            ]
          },
          "metadata": {},
          "execution_count": 35
        }
      ]
    },
    {
      "cell_type": "code",
      "metadata": {
        "id": "K5tgONRb-iY7"
      },
      "source": [
        "   \n",
        "kde = gaussian_kde(pmf.index, weights=pmf)\n",
        "size = df['f'].sum()"
      ],
      "execution_count": 36,
      "outputs": []
    },
    {
      "cell_type": "markdown",
      "metadata": {
        "id": "S9kZih9e-iY8"
      },
      "source": [
        "We can use the KDE to draw a new sample of lifetimes, with the same size as the original data set, like this."
      ]
    },
    {
      "cell_type": "code",
      "metadata": {
        "id": "D503TPHMgdt_",
        "outputId": "a5af0e43-22e0-45e8-8872-52c74e763e2d",
        "colab": {
          "base_uri": "https://localhost:8080/"
        }
      },
      "source": [
        "kde.resample(size).flatten()"
      ],
      "execution_count": 37,
      "outputs": [
        {
          "output_type": "execute_result",
          "data": {
            "text/plain": [
              "array([ 952.31126921, 1864.42849308, 1433.63901114, 1295.19126319,\n",
              "       1313.51752572, 1703.86013796, 1835.00199207, 1325.12447236,\n",
              "       1274.97804616, 2012.69854508, 1068.49333996, 1861.73414574,\n",
              "       1973.24127401, 1451.7947741 , 2048.90975212,  774.22829781,\n",
              "       1763.05084232, 1659.60158002, 1298.07440999, 2037.48154462,\n",
              "       1328.2828201 , 1327.46545677, 1013.17600494, 1334.92683333,\n",
              "       1751.98727165, 1535.95349004,  930.83581418, 1696.42047508,\n",
              "       1497.96192477, 1216.92359609, 1938.15529249, 1397.63112498,\n",
              "       2889.37644682, 1571.63041188, 1515.8432514 ,  880.33071901,\n",
              "       1572.85870863,  988.75706969, 1519.52725038, 1417.55562113,\n",
              "       1181.05386081, 1673.13282542, 1002.35725793, 1757.53025408,\n",
              "       2529.3026807 , 1685.52190306, 1357.11967037, 1639.33442458,\n",
              "        919.4449098 , 2402.73434159])"
            ]
          },
          "metadata": {},
          "execution_count": 37
        }
      ]
    },
    {
      "cell_type": "code",
      "metadata": {
        "colab": {
          "base_uri": "https://localhost:8080/"
        },
        "id": "bEXc9TjQ-iY9",
        "outputId": "ee0f0b98-914b-475b-a83e-05722969994c"
      },
      "source": [
        "sample = kde.resample(size).flatten()\n",
        "sample.shape"
      ],
      "execution_count": 38,
      "outputs": [
        {
          "output_type": "execute_result",
          "data": {
            "text/plain": [
              "(50,)"
            ]
          },
          "metadata": {},
          "execution_count": 38
        }
      ]
    },
    {
      "cell_type": "markdown",
      "metadata": {
        "id": "x8qbTlW1-iY9"
      },
      "source": [
        "The following function takes a sample and computes its PMF, CDF, survival function, and hazard function."
      ]
    },
    {
      "cell_type": "code",
      "metadata": {
        "id": "HfzrjtMplHVb",
        "outputId": "d445747c-cc5b-494d-db17-677680ae42a2",
        "colab": {
          "base_uri": "https://localhost:8080/"
        }
      },
      "source": [
        "pd.Series(sample).value_counts(normalize=True).sort_index()    "
      ],
      "execution_count": 39,
      "outputs": [
        {
          "output_type": "execute_result",
          "data": {
            "text/plain": [
              "687.637972     0.02\n",
              "869.208647     0.02\n",
              "903.948775     0.02\n",
              "938.020959     0.02\n",
              "940.953066     0.02\n",
              "966.079464     0.02\n",
              "1026.607863    0.02\n",
              "1049.138614    0.02\n",
              "1055.649213    0.02\n",
              "1100.441549    0.02\n",
              "1111.404570    0.02\n",
              "1137.998408    0.02\n",
              "1148.267884    0.02\n",
              "1168.209963    0.02\n",
              "1171.957711    0.02\n",
              "1176.225675    0.02\n",
              "1188.112353    0.02\n",
              "1190.422569    0.02\n",
              "1243.928048    0.02\n",
              "1249.636636    0.02\n",
              "1260.866557    0.02\n",
              "1320.268717    0.02\n",
              "1331.469331    0.02\n",
              "1341.184396    0.02\n",
              "1387.734498    0.02\n",
              "1409.001315    0.02\n",
              "1412.925502    0.02\n",
              "1417.793562    0.02\n",
              "1426.098709    0.02\n",
              "1429.456215    0.02\n",
              "1445.857147    0.02\n",
              "1462.998200    0.02\n",
              "1483.605505    0.02\n",
              "1486.011202    0.02\n",
              "1531.573802    0.02\n",
              "1571.471163    0.02\n",
              "1587.915286    0.02\n",
              "1625.870495    0.02\n",
              "1627.682162    0.02\n",
              "1635.069027    0.02\n",
              "1652.251108    0.02\n",
              "1663.576610    0.02\n",
              "1709.602347    0.02\n",
              "1747.213080    0.02\n",
              "1760.465655    0.02\n",
              "1811.766811    0.02\n",
              "1875.858076    0.02\n",
              "2009.454014    0.02\n",
              "2883.784149    0.02\n",
              "2923.648832    0.02\n",
              "dtype: float64"
            ]
          },
          "metadata": {},
          "execution_count": 39
        }
      ]
    },
    {
      "cell_type": "code",
      "metadata": {
        "id": "FFhObbId-iY9"
      },
      "source": [
        "def make_hazard(sample):\n",
        "    pmf = pd.Series(sample).value_counts(normalize=True).sort_index()    \n",
        "    cdf = pmf.cumsum()\n",
        "    surv = 1 - cdf\n",
        "    haz = pmf / (pmf + surv)\n",
        "    return pmf, cdf, surv, haz"
      ],
      "execution_count": 40,
      "outputs": []
    },
    {
      "cell_type": "markdown",
      "metadata": {
        "id": "TSB3HZ4X-iY-"
      },
      "source": [
        "I'll generate 100 samples and plot their survival functions."
      ]
    },
    {
      "cell_type": "code",
      "metadata": {
        "colab": {
          "base_uri": "https://localhost:8080/",
          "height": 297
        },
        "id": "jLG2z7xo-iY-",
        "outputId": "fe710112-8053-4d85-f9aa-66f2407b63cd"
      },
      "source": [
        "for i in range(100):\n",
        "    sample = kde.resample(size).flatten()\n",
        "    _, _, sf, _ = make_hazard(sample)\n",
        "    sf.plot(color='gray', alpha=0.1)\n",
        "    \n",
        "surv.plot()\n",
        "decorate(xlabel='Lifetime (hours)', \n",
        "         ylabel='Prob(lifetime>t)', \n",
        "         title='Survival function of lightbulb lifetimes')"
      ],
      "execution_count": 41,
      "outputs": [
        {
          "output_type": "display_data",
          "data": {
            "image/png": "[encoded data removed]",
            "text/plain": [
              "<Figure size 432x288 with 1 Axes>"
            ]
          },
          "metadata": {
            "needs_background": "light"
          }
        }
      ]
    },
    {
      "cell_type": "markdown",
      "metadata": {
        "id": "uOqqulCA-iY_"
      },
      "source": [
        "By plotting the resampled survival functions on top of each other, we can get a sense of how much the results vary due to random sampling.\n",
        "\n",
        "We can do the same thing with the hazard function:"
      ]
    },
    {
      "cell_type": "code",
      "metadata": {
        "colab": {
          "base_uri": "https://localhost:8080/",
          "height": 297
        },
        "id": "EO-GCzd7-iY_",
        "outputId": "3f3ec402-e663-4445-db7f-7bf24a70c85a"
      },
      "source": [
        "for i in range(100):\n",
        "    sample = kde.resample(size).flatten()\n",
        "    _, _, _, hf = make_hazard(sample)\n",
        "    hf.cumsum().plot(color='gray', alpha=0.1)\n",
        "\n",
        "haz.cumsum().plot()\n",
        "\n",
        "decorate(xlabel='Lifetime (hours)', \n",
        "         ylabel='Cumulative hazard rate', \n",
        "         title='Hazard function of lightbulb lifetimes')"
      ],
      "execution_count": 42,
      "outputs": [
        {
          "output_type": "display_data",
          "data": {
            "image/png": "[encoded data removed]",
            "text/plain": [
              "<Figure size 432x288 with 1 Axes>"
            ]
          },
          "metadata": {
            "needs_background": "light"
          }
        }
      ]
    },
    {
      "cell_type": "markdown",
      "metadata": {
        "id": "CIZQt_cI-iZA"
      },
      "source": [
        "This plot gives us a sense of which parts of the cumulative hazard function are reliable and which are not.\n",
        "\n",
        "Below 2000 hours, all of the resampled curves are similar; they increase with increasing slope.\n",
        "\n",
        "After that, the variability of the curves is much wider, which means we don't have enough data to characterize this part of the hazard function."
      ]
    },
    {
      "cell_type": "markdown",
      "metadata": {
        "id": "N9xOwRsm-iZB"
      },
      "source": [
        "## Summary\n",
        "\n",
        "We have seen four ways to represent a distribution of lifetimes:\n",
        "\n",
        "* Probability mass function (PMF), which maps from each value in the distribution to its probability.\n",
        "\n",
        "* Cumulative distribution function (CDF), which maps from each value, `x`, to its cumulative probability, that is, the probability of being less than or equal to `x`.\n",
        "\n",
        "* Survival function, which is the complement of the CDF; that is, the probability of exceeding `x`.\n",
        "\n",
        "* Hazard function, which is the number of failures at `x` as a fraction of the number of cases that survive until `x`.\n",
        "\n",
        "These representations are equivalent in the sense that they all contain the same information.  Given any of them, we can compute any of the others.\n",
        "\n",
        "In this notebook, we computed the `Pmf` directly from the data, then computed the `Cdf`, survival function, and hazard function, in that order.\n",
        "\n",
        "In the next notebook we will use these representations to deal with a case where we cannot compute the PMF directly from the data."
      ]
    },
    {
      "cell_type": "markdown",
      "metadata": {
        "id": "kX-_m1m8-iZC"
      },
      "source": [
        "Part of [Survival Analysis in Python](https://allendowney.github.io/SurvivalAnalysisPython/)\n",
        "\n",
        "Allen B. Downey\n",
        "\n",
        "[Attribution-NonCommercial-ShareAlike 4.0 International (CC BY-NC-SA 4.0)](https://creativecommons.org/licenses/by-nc-sa/4.0/)"
      ]
    }
  ]
}