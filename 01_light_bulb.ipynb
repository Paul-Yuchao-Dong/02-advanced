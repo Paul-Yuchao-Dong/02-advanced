{
  "nbformat": 4,
  "nbformat_minor": 0,
  "metadata": {
    "celltoolbar": "Tags",
    "kernelspec": {
      "display_name": "Python 3 (ipykernel)",
      "language": "python",
      "name": "python3"
    },
    "language_info": {
      "codemirror_mode": {
        "name": "ipython",
        "version": 3
      },
      "file_extension": ".py",
      "mimetype": "text/x-python",
      "name": "python",
      "nbconvert_exporter": "python",
      "pygments_lexer": "ipython3",
      "version": "3.7.11"
    },
    "colab": {
      "name": "01_light_bulb.ipynb",
      "provenance": [],
      "include_colab_link": true
    }
  },
  "cells": [
    {
      "cell_type": "markdown",
      "metadata": {
        "id": "view-in-github",
        "colab_type": "text"
      },
      "source": [
        "<a href=\"https://colab.research.google.com/github/Paul-Yuchao-Dong/02-advanced/blob/master/01_light_bulb.ipynb\" target=\"_parent\"><img src=\"https://colab.research.google.com/assets/colab-badge.svg\" alt=\"Open In Colab\"/></a>"
      ]
    },
    {
      "cell_type": "markdown",
      "metadata": {
        "id": "mlXrA5oN51iP"
      },
      "source": [
        "# Survival Analysis"
      ]
    },
    {
      "cell_type": "markdown",
      "metadata": {
        "id": "eK_hf5ez51id"
      },
      "source": [
        "[Run this notebook on Colab](https://colab.research.google.com/github/AllenDowney/SurvivalAnalysisPython/blob/master/01_light_bulb.ipynb)"
      ]
    },
    {
      "cell_type": "markdown",
      "metadata": {
        "id": "CbPw5t1j51in"
      },
      "source": [
        "## Introduction\n",
        "\n",
        "This notebook presents four ways to represent a distribution: PMFs, CDFs, survival functions, and hazard functions.\n",
        "\n",
        "These representations are equivalent in the sense that if you are given any of them, you can compute the others.  So you might wonder why we need four ways to represent the same information.  There are two reasons:\n",
        "\n",
        "1. Each representation is useful for computing different values and answering different questions.  In this notebook I'll show you what each representation is good for.\n",
        "\n",
        "2. In some cases we can use a sample to compute a PMF, and use the PMF to compute the other representations.  In other cases it is easier to estimate the hazard function and use it to compute the others.\n",
        "\n",
        "In this notebook I will demonstrate the first process, starting with the PMF.  In the next notebook we'll see the second process, starting with the hazard function."
      ]
    },
    {
      "cell_type": "markdown",
      "metadata": {
        "id": "dRCUQtLd51iu"
      },
      "source": [
        "## Light bulb lifetimes\n",
        "\n",
        "As a first example, I'll use I'll use data from an experiment that measures the lifetimes of 50 light bulbs.\n",
        "I downloaded the data from from [this gist](https://gist.github.com/epogrebnyak/7933e16c0ad215742c4c104be4fbdeb1), which includes this documentation:\n",
        "\n",
        "```\n",
        "Dataset from:\n",
        "    \n",
        "V.J. Menon and D.C. Agrawal,  Renewal Rate of Filament Lamps: \n",
        "Theory and Experiment. Journal of Failure Analysis and Prevention. \n",
        "December 2007, p. 421, Table 2/\n",
        "DOI: 10.1007/s11668-007-9074-9\n",
        "\n",
        "Description:\n",
        "\n",
        "An assembly of 50 new Philips (India) lamps with the \n",
        "rating 40 W, 220 V (AC) was taken and installed in the horizontal \n",
        "orientation and uniformly distributed over a lab area 11 m by 7 m. \n",
        "\n",
        "The assembly was monitored at regular intervals of 12 h to\n",
        "look for failures. The instants of recorded failures were\n",
        "called t‘ and a total of 32 data points were obtained such\n",
        "that even the last bulb failed. \n",
        "\n",
        "Variables:\n",
        "\n",
        "i - observation number\n",
        "h - time in hours since experiment start\n",
        "f - number of failed lamps at particular time h\n",
        "K - number of surviving lamps  at particular time h\n",
        "```\n",
        "\n",
        "Because of the design of this experiment, we can consider the data to be a representative sample from the distribution of lifetimes, at least for light bulbs that are lit continuously."
      ]
    },
    {
      "cell_type": "markdown",
      "metadata": {
        "id": "x0xhE85u51i8"
      },
      "source": [
        "The following cell downloads the data (thanks to Evgeny Pogrebnyak for making it available).  \n",
        "If that fails, you should be able to [get it from my repository](https://github.com/AllenDowney/SurvivalAnalysisPython/raw/master/lamps.csv)."
      ]
    },
    {
      "cell_type": "code",
      "metadata": {
        "colab": {
          "base_uri": "https://localhost:8080/"
        },
        "id": "dkWI2Hpr51i_",
        "outputId": "b25d8257-1597-443e-e27e-24a993ecffd3"
      },
      "source": [
        "import os\n",
        "\n",
        "datafile = 'lamps.csv'\n",
        "if not os.path.exists(datafile):\n",
        "    !wget https://gist.github.com/epogrebnyak/7933e16c0ad215742c4c104be4fbdeb1/raw/c932bc5b6aa6317770c4cbf43eb591511fec08f9/lamps.csv"
      ],
      "execution_count": 1,
      "outputs": [
        {
          "output_type": "stream",
          "name": "stdout",
          "text": [
            "--2021-11-22 13:50:42--  https://gist.github.com/epogrebnyak/7933e16c0ad215742c4c104be4fbdeb1/raw/c932bc5b6aa6317770c4cbf43eb591511fec08f9/lamps.csv\n",
            "Resolving gist.github.com (gist.github.com)... 140.82.121.4\n",
            "Connecting to gist.github.com (gist.github.com)|140.82.121.4|:443... connected.\n",
            "HTTP request sent, awaiting response... 301 Moved Permanently\n",
            "Location: https://gist.githubusercontent.com/epogrebnyak/7933e16c0ad215742c4c104be4fbdeb1/raw/c932bc5b6aa6317770c4cbf43eb591511fec08f9/lamps.csv [following]\n",
            "--2021-11-22 13:50:42--  https://gist.githubusercontent.com/epogrebnyak/7933e16c0ad215742c4c104be4fbdeb1/raw/c932bc5b6aa6317770c4cbf43eb591511fec08f9/lamps.csv\n",
            "Resolving gist.githubusercontent.com (gist.githubusercontent.com)... 185.199.108.133, 185.199.109.133, 185.199.110.133, ...\n",
            "Connecting to gist.githubusercontent.com (gist.githubusercontent.com)|185.199.108.133|:443... connected.\n",
            "HTTP request sent, awaiting response... 200 OK\n",
            "Length: 410 [text/plain]\n",
            "Saving to: ‘lamps.csv’\n",
            "\n",
            "lamps.csv           100%[===================>]     410  --.-KB/s    in 0s      \n",
            "\n",
            "2021-11-22 13:50:42 (25.6 MB/s) - ‘lamps.csv’ saved [410/410]\n",
            "\n"
          ]
        }
      ]
    },
    {
      "cell_type": "markdown",
      "metadata": {
        "id": "WD2jUOeJ51jM"
      },
      "source": [
        "We can use Pandas to load the data from the CSV file."
      ]
    },
    {
      "cell_type": "code",
      "metadata": {
        "id": "SwB9in1L51ja"
      },
      "source": [
        "import pandas as pd\n",
        "import numpy as np\n",
        "import matplotlib.pyplot as plt"
      ],
      "execution_count": 2,
      "outputs": []
    },
    {
      "cell_type": "code",
      "metadata": {
        "colab": {
          "base_uri": "https://localhost:8080/",
          "height": 235
        },
        "id": "hxiLHwbN51jl",
        "outputId": "387e28c4-ba31-4eb8-862a-f1e21d1adbb1"
      },
      "source": [
        "df = pd.read_csv('lamps.csv', index_col=0)\n",
        "df.head()"
      ],
      "execution_count": 3,
      "outputs": [
        {
          "output_type": "execute_result",
          "data": {
            "text/html": [
              "<div>\n",
              "<style scoped>\n",
              "    .dataframe tbody tr th:only-of-type {\n",
              "        vertical-align: middle;\n",
              "    }\n",
              "\n",
              "    .dataframe tbody tr th {\n",
              "        vertical-align: top;\n",
              "    }\n",
              "\n",
              "    .dataframe thead th {\n",
              "        text-align: right;\n",
              "    }\n",
              "</style>\n",
              "<table border=\"1\" class=\"dataframe\">\n",
              "  <thead>\n",
              "    <tr style=\"text-align: right;\">\n",
              "      <th></th>\n",
              "      <th>h</th>\n",
              "      <th>f</th>\n",
              "      <th>K</th>\n",
              "    </tr>\n",
              "    <tr>\n",
              "      <th>i</th>\n",
              "      <th></th>\n",
              "      <th></th>\n",
              "      <th></th>\n",
              "    </tr>\n",
              "  </thead>\n",
              "  <tbody>\n",
              "    <tr>\n",
              "      <th>0</th>\n",
              "      <td>0</td>\n",
              "      <td>0</td>\n",
              "      <td>50</td>\n",
              "    </tr>\n",
              "    <tr>\n",
              "      <th>1</th>\n",
              "      <td>840</td>\n",
              "      <td>2</td>\n",
              "      <td>48</td>\n",
              "    </tr>\n",
              "    <tr>\n",
              "      <th>2</th>\n",
              "      <td>852</td>\n",
              "      <td>1</td>\n",
              "      <td>47</td>\n",
              "    </tr>\n",
              "    <tr>\n",
              "      <th>3</th>\n",
              "      <td>936</td>\n",
              "      <td>1</td>\n",
              "      <td>46</td>\n",
              "    </tr>\n",
              "    <tr>\n",
              "      <th>4</th>\n",
              "      <td>960</td>\n",
              "      <td>1</td>\n",
              "      <td>45</td>\n",
              "    </tr>\n",
              "  </tbody>\n",
              "</table>\n",
              "</div>"
            ],
            "text/plain": [
              "     h  f   K\n",
              "i            \n",
              "0    0  0  50\n",
              "1  840  2  48\n",
              "2  852  1  47\n",
              "3  936  1  46\n",
              "4  960  1  45"
            ]
          },
          "metadata": {},
          "execution_count": 3
        }
      ]
    },
    {
      "cell_type": "markdown",
      "metadata": {
        "id": "V7iY-Xuw51j2"
      },
      "source": [
        "## PMF\n",
        "\n",
        "This dataset is complete in the sense that the experiment ran until all light bulbs failed, so the lifetime for every bulb is known.\n",
        "So we can use the data to estimate the probability mass function (PMF) of lifetimes.\n",
        "\n",
        "To represent a PMF, I'll use a Pandas `Series` with the lifetimes (column `h`) as the index and the number of failures (column `f`) as the values."
      ]
    },
    {
      "cell_type": "code",
      "metadata": {
        "tags": [],
        "id": "VS5LC87Y51j7"
      },
      "source": [
        ""
      ],
      "execution_count": null,
      "outputs": []
    },
    {
      "cell_type": "markdown",
      "metadata": {
        "id": "NjwEAM-251j9"
      },
      "source": [
        "To normalize the PMF, we divide through by the total number of lightbulbs."
      ]
    },
    {
      "cell_type": "code",
      "metadata": {
        "tags": [],
        "id": "-ZcxvaJI51kD"
      },
      "source": [
        ""
      ],
      "execution_count": null,
      "outputs": []
    },
    {
      "cell_type": "markdown",
      "metadata": {
        "id": "nsaXkaYt51kH"
      },
      "source": [
        "For a given lifetime, `t`, the PMF contains the fraction of lifetimes equal to `t`.\n",
        "For example, we can compute the fraction of light bulbs that lasted 840 hours:"
      ]
    },
    {
      "cell_type": "code",
      "metadata": {
        "tags": [],
        "id": "MfcuH93A51kL"
      },
      "source": [
        ""
      ],
      "execution_count": null,
      "outputs": []
    },
    {
      "cell_type": "markdown",
      "metadata": {
        "id": "S2Lr7LXb51kL"
      },
      "source": [
        "Or the fraction equal to 1524 hours."
      ]
    },
    {
      "cell_type": "code",
      "metadata": {
        "tags": [],
        "id": "JV93A9xQ51kO"
      },
      "source": [
        ""
      ],
      "execution_count": null,
      "outputs": []
    },
    {
      "cell_type": "markdown",
      "metadata": {
        "id": "sRi8e1sG51kO"
      },
      "source": [
        "Here's what the PMF looks like."
      ]
    },
    {
      "cell_type": "code",
      "metadata": {
        "id": "IXSRmPbc51kV"
      },
      "source": [
        "def decorate(**options):\n",
        "    \"\"\"Decorate the current axes.\n",
        "    Call decorate with keyword arguments like\n",
        "    decorate(title='Title',\n",
        "             xlabel='x',\n",
        "             ylabel='y')\n",
        "    The keyword arguments can be any of the axis properties\n",
        "    https://matplotlib.org/api/axes_api.html\n",
        "    \"\"\"\n",
        "    plt.gca().set(**options)\n",
        "    plt.tight_layout()"
      ],
      "execution_count": null,
      "outputs": []
    },
    {
      "cell_type": "code",
      "metadata": {
        "id": "bF649JjN51kW"
      },
      "source": [
        "pmf.plot()\n",
        "decorate(xlabel='Lifetime (hours)', \n",
        "         ylabel='PMF', \n",
        "         title='PMF of lightbulb lifetimes')"
      ],
      "execution_count": null,
      "outputs": []
    },
    {
      "cell_type": "markdown",
      "metadata": {
        "id": "KFIdN8nL51kc"
      },
      "source": [
        "This way of visualizing the data can be useful for validation, and it gives a sense of the location and spread of the data.  But it does not make the shape of the distrbution clear.  For that, the CDF is better."
      ]
    },
    {
      "cell_type": "markdown",
      "metadata": {
        "id": "6MOPi-jI51kd"
      },
      "source": [
        "## CDF\n",
        "\n",
        "The Cumulative Distribution Function (CDF) is the cumulative sum of the PMF."
      ]
    },
    {
      "cell_type": "code",
      "metadata": {
        "tags": [],
        "id": "rUPm7sPs51kd"
      },
      "source": [
        ""
      ],
      "execution_count": null,
      "outputs": []
    },
    {
      "cell_type": "markdown",
      "metadata": {
        "id": "EzRRPYa651kh"
      },
      "source": [
        "For a given lifetime, `t`, the CDF contains the fraction of lifetimes less than or equal to `t`.\n",
        "For example, here is the fraction of light bulbs that expired at or before 840 hours:"
      ]
    },
    {
      "cell_type": "code",
      "metadata": {
        "tags": [],
        "id": "gOQnbeaQ51ki"
      },
      "source": [
        ""
      ],
      "execution_count": null,
      "outputs": []
    },
    {
      "cell_type": "markdown",
      "metadata": {
        "id": "pC-e4Mp451kl"
      },
      "source": [
        "And the fraction that expired at or before 1524 hours."
      ]
    },
    {
      "cell_type": "code",
      "metadata": {
        "tags": [],
        "id": "DHLzGujs51km"
      },
      "source": [
        ""
      ],
      "execution_count": null,
      "outputs": []
    },
    {
      "cell_type": "markdown",
      "metadata": {
        "id": "3M1GT_S751km"
      },
      "source": [
        "Here's what the CDF looks like."
      ]
    },
    {
      "cell_type": "code",
      "metadata": {
        "id": "vO69SegR51kq"
      },
      "source": [
        "cdf.plot()\n",
        "decorate(xlabel='Lifetime (hours)', \n",
        "         ylabel='CDF', \n",
        "         title='CDF of lightbulb lifetimes')"
      ],
      "execution_count": null,
      "outputs": []
    },
    {
      "cell_type": "markdown",
      "metadata": {
        "id": "FSoTjlQR51kr"
      },
      "source": [
        "In my opinion, the CDF is often the best way to visualize the distribution of a sample.\n",
        "\n",
        "Between 800 and 1800 hours, the CDF is roughly a straight line, which suggests that the distribution is uniform in this range."
      ]
    },
    {
      "cell_type": "markdown",
      "metadata": {
        "id": "iOjMfJI251ku"
      },
      "source": [
        "## Survival function\n",
        "\n",
        "The survival function is the complement of the CDF; that is, for a given lifetime, `t`:\n",
        "\n",
        "* The CDF is the fraction of the population less than or equal to `t`.\n",
        "\n",
        "* The survival function is the fraction (strictly) greater than `t`.\n",
        "\n",
        "We can compute the survival function like this:"
      ]
    },
    {
      "cell_type": "code",
      "metadata": {
        "tags": [],
        "id": "dqjWnlQF51kv"
      },
      "source": [
        ""
      ],
      "execution_count": null,
      "outputs": []
    },
    {
      "cell_type": "markdown",
      "metadata": {
        "id": "qpBe6scf51kv"
      },
      "source": [
        "We can use `surv` to compute the fraction of lightbulbs that live longer than 1524 hours:"
      ]
    },
    {
      "cell_type": "code",
      "metadata": {
        "tags": [],
        "id": "2CEJ2nSt51kv"
      },
      "source": [
        ""
      ],
      "execution_count": null,
      "outputs": []
    },
    {
      "cell_type": "markdown",
      "metadata": {
        "id": "-GNRwwSU51kv"
      },
      "source": [
        "If we plot the survival function along with the CDF, we can see that they are complements."
      ]
    },
    {
      "cell_type": "code",
      "metadata": {
        "id": "eeRdaZs251kw"
      },
      "source": [
        "cdf.plot(color='gray', alpha=0.4)\n",
        "surv.plot()\n",
        "decorate(xlabel='Lifetime (hours)', \n",
        "         ylabel='Prob(lifetime>t)', \n",
        "         title='Survival function of lightbulb lifetimes')"
      ],
      "execution_count": null,
      "outputs": []
    },
    {
      "cell_type": "markdown",
      "metadata": {
        "id": "9LcWjmQd51k0"
      },
      "source": [
        "It might not be obvious why the survival function is useful.  Given the CDF and a little arithmetic, we can answer all of the same questions.\n",
        "\n",
        "There are two reasons:\n",
        "\n",
        "* In some domains it is more natural, or at least conventional, to represent distributions in terms of survival rates.\n",
        "\n",
        "* The survival function is a step on the way to the hazard function, which we'll get to now."
      ]
    },
    {
      "cell_type": "markdown",
      "metadata": {
        "id": "o42Tjsxh51k0"
      },
      "source": [
        "## Hazard function\n",
        "\n",
        "For a given lifetime `t`, the hazard function computes the \"hazard rate\" at `t`.  Using the vocabulary of the light bulb example, the hazard rate is the fraction of light bulbs that survive until `t` and then fail at `t`.\n",
        "\n",
        "We can compute the hazard rate by computing these quantities:\n",
        "\n",
        "* `pmf(t)` is the fraction of light bulbs that fail at `t`.\n",
        "\n",
        "* `surv(t)` is the fraction of light bulbs that live longer than `t`.\n",
        "\n",
        "* The sum, `pmf(t) + surv(t)` is the fraction that survive until `t`. \n",
        "\n",
        "So the hazard rate is the ratio of `pmf(t)` to the sum `pmf(t) + surv(t)`.\n",
        "We can compute it like this:"
      ]
    },
    {
      "cell_type": "code",
      "metadata": {
        "tags": [],
        "id": "VJdTiOgR51k1"
      },
      "source": [
        ""
      ],
      "execution_count": null,
      "outputs": []
    },
    {
      "cell_type": "markdown",
      "metadata": {
        "id": "OzRhOEl251k5"
      },
      "source": [
        "Here's what the hazard function looks like:"
      ]
    },
    {
      "cell_type": "code",
      "metadata": {
        "id": "AxMxIuwu51k5"
      },
      "source": [
        "haz.plot()\n",
        "decorate(xlabel='Lifetime (hours)', \n",
        "         ylabel='Hazard rate', \n",
        "         title='Hazard function of lightbulb lifetimes')"
      ],
      "execution_count": null,
      "outputs": []
    },
    {
      "cell_type": "markdown",
      "metadata": {
        "id": "eLQv9DR451k5"
      },
      "source": [
        "With this kind of data, plotting the hazard function does not provide a clear picture of what's happening.  There are two problems:\n",
        "\n",
        "1) The plot shows spikes at the locations of the data, but it is hard to see the shape of the curve.\n",
        "\n",
        "2) The large values on the right are unreliable because they are based on a small number of values.\n",
        "\n",
        "To explain the second point, let's look at the last few rows of the failure column, `f`:"
      ]
    },
    {
      "cell_type": "code",
      "metadata": {
        "id": "EOLliZ_m51k5"
      },
      "source": [
        "df.tail()"
      ],
      "execution_count": null,
      "outputs": []
    },
    {
      "cell_type": "markdown",
      "metadata": {
        "id": "dSIvbzHp51k6"
      },
      "source": [
        "We can see that one bulb failed at each of 1812, 1836, 1860, 1980, and 2568 hours.\n",
        "\n",
        "So the last value of the hazard function is based on only one bulb; the second-to-last point is based on 2 bulbs; and so on."
      ]
    },
    {
      "cell_type": "markdown",
      "metadata": {
        "id": "0gAIMwwF51k6"
      },
      "source": [
        "## The cumulative hazard function\n",
        "\n",
        "To get a better sense for the shape of the curve, we can plot the cumulative hazard function, like this:"
      ]
    },
    {
      "cell_type": "code",
      "metadata": {
        "id": "GbbY0Kz351k6"
      },
      "source": [
        "haz.cumsum().plot()\n",
        "\n",
        "decorate(xlabel='Lifetime (hours)', \n",
        "         ylabel='Cumulative hazard rate', \n",
        "         title='Hazard function of lightbulb lifetimes')"
      ],
      "execution_count": null,
      "outputs": []
    },
    {
      "cell_type": "markdown",
      "metadata": {
        "id": "iUoPn63l51k6"
      },
      "source": [
        "The slope of the cumulative hazard function is proportional to the hazard rate, so we can use this curve to see when the hazard rate is low or high, and when it is increasing or decreasing.\n",
        "\n",
        "Between 0 and 1000 hours, the slope is low, so the hazard rate is low.\n",
        "\n",
        "Between 1000 and 2000 hours, the slope is increasing, so the hazard rate is increasing."
      ]
    },
    {
      "cell_type": "markdown",
      "metadata": {
        "id": "RJOVr95z51k6"
      },
      "source": [
        "But notice that the vertical scale goes to 4.  You might wonder that that means; the answer is \"not much\".\n",
        "\n",
        "The values of the hazard function are rates, that is, percentages of light bulbs that expire at each point in time.  When you add up these rates, the result does not have a clear interpretation.  \n",
        "\n",
        "When you look at a cumulative hazard function, you should pay attention to the slope of the curve and ignore the values."
      ]
    },
    {
      "cell_type": "markdown",
      "metadata": {
        "id": "L3FqO4uj51k9"
      },
      "source": [
        "## Resampling\n",
        "\n",
        "In the previous section, I suggested that we have to be careful not to overinterpret the right side of the hazard function, because it is based on a small number of data points.\n",
        "\n",
        "To see how precise the estimated hazard function is, we can use resampling.\n",
        "\n",
        "First I will use the Pmf of lifetimes to make a kernel density estimate (KDE) of the distribution."
      ]
    },
    {
      "cell_type": "code",
      "metadata": {
        "id": "j-p-GFFI51k9"
      },
      "source": [
        "from scipy.stats import gaussian_kde\n",
        "    \n",
        "kde = gaussian_kde(pmf.index, weights=pmf)\n",
        "size = df['f'].sum()"
      ],
      "execution_count": null,
      "outputs": []
    },
    {
      "cell_type": "markdown",
      "metadata": {
        "id": "w25OgwFo51k9"
      },
      "source": [
        "We can use the KDE to draw a new sample of lifetimes, with the same size as the original data set, like this."
      ]
    },
    {
      "cell_type": "code",
      "metadata": {
        "id": "SX3YtbjZ51k-"
      },
      "source": [
        "sample = kde.resample(size).flatten()\n",
        "sample.shape"
      ],
      "execution_count": null,
      "outputs": []
    },
    {
      "cell_type": "markdown",
      "metadata": {
        "id": "p_O-PIZf51k-"
      },
      "source": [
        "The following function takes a sample and computes its PMF, CDF, survival function, and hazard function."
      ]
    },
    {
      "cell_type": "code",
      "metadata": {
        "id": "R9LEKMw751k-"
      },
      "source": [
        "def make_hazard(sample):\n",
        "    pmf = pd.Series(sample).value_counts(normalize=True).sort_index()    \n",
        "    cdf = pmf.cumsum()\n",
        "    surv = 1 - cdf\n",
        "    haz = pmf / (pmf + surv)\n",
        "    return pmf, cdf, surv, haz"
      ],
      "execution_count": null,
      "outputs": []
    },
    {
      "cell_type": "markdown",
      "metadata": {
        "id": "e-9pOTYE51k_"
      },
      "source": [
        "I'll generate 100 samples and plot their survival functions."
      ]
    },
    {
      "cell_type": "code",
      "metadata": {
        "id": "1cMRLuqC51k_"
      },
      "source": [
        "for i in range(100):\n",
        "    sample = kde.resample(size).flatten()\n",
        "    _, _, sf, _ = make_hazard(sample)\n",
        "    sf.plot(color='gray', alpha=0.1)\n",
        "    \n",
        "surv.plot()\n",
        "decorate(xlabel='Lifetime (hours)', \n",
        "         ylabel='Prob(lifetime>t)', \n",
        "         title='Survival function of lightbulb lifetimes')"
      ],
      "execution_count": null,
      "outputs": []
    },
    {
      "cell_type": "markdown",
      "metadata": {
        "id": "gRl3c10L51k_"
      },
      "source": [
        "By plotting the resampled survival functions on top of each other, we can get a sense of how much the results vary due to random sampling.\n",
        "\n",
        "We can do the same thing with the hazard function:"
      ]
    },
    {
      "cell_type": "code",
      "metadata": {
        "id": "nbYDODv151lA"
      },
      "source": [
        "for i in range(100):\n",
        "    sample = kde.resample(size).flatten()\n",
        "    _, _, _, hf = make_hazard(sample)\n",
        "    hf.cumsum().plot(color='gray', alpha=0.1)\n",
        "\n",
        "haz.cumsum().plot()\n",
        "\n",
        "decorate(xlabel='Lifetime (hours)', \n",
        "         ylabel='Cumulative hazard rate', \n",
        "         title='Hazard function of lightbulb lifetimes')"
      ],
      "execution_count": null,
      "outputs": []
    },
    {
      "cell_type": "markdown",
      "metadata": {
        "id": "BqwlPmz_51lA"
      },
      "source": [
        "This plot gives us a sense of which parts of the cumulative hazard function are reliable and which are not.\n",
        "\n",
        "Below 2000 hours, all of the resampled curves are similar; they increase with increasing slope.\n",
        "\n",
        "After that, the variability of the curves is much wider, which means we don't have enough data to characterize this part of the hazard function."
      ]
    },
    {
      "cell_type": "markdown",
      "metadata": {
        "id": "ikcgGvkV51lA"
      },
      "source": [
        "## Summary\n",
        "\n",
        "We have seen four ways to represent a distribution of lifetimes:\n",
        "\n",
        "* Probability mass function (PMF), which maps from each value in the distribution to its probability.\n",
        "\n",
        "* Cumulative distribution function (CDF), which maps from each value, `x`, to its cumulative probability, that is, the probability of being less than or equal to `x`.\n",
        "\n",
        "* Survival function, which is the complement of the CDF; that is, the probability of exceeding `x`.\n",
        "\n",
        "* Hazard function, which is the number of failures at `x` as a fraction of the number of cases that survive until `x`.\n",
        "\n",
        "These representations are equivalent in the sense that they all contain the same information.  Given any of them, we can compute any of the others.\n",
        "\n",
        "In this notebook, we computed the `Pmf` directly from the data, then computed the `Cdf`, survival function, and hazard function, in that order.\n",
        "\n",
        "In the next notebook we will use these representations to deal with a case where we cannot compute the PMF directly from the data."
      ]
    },
    {
      "cell_type": "markdown",
      "metadata": {
        "id": "gIJNRCjF51lB"
      },
      "source": [
        "Part of [Survival Analysis in Python](https://allendowney.github.io/SurvivalAnalysisPython/)\n",
        "\n",
        "Allen B. Downey\n",
        "\n",
        "[Attribution-NonCommercial-ShareAlike 4.0 International (CC BY-NC-SA 4.0)](https://creativecommons.org/licenses/by-nc-sa/4.0/)"
      ]
    }
  ]
}