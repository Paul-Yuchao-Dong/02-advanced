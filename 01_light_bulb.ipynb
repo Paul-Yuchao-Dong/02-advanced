{
  "nbformat": 4,
  "nbformat_minor": 0,
  "metadata": {
    "celltoolbar": "Tags",
    "kernelspec": {
      "display_name": "Python 3 (ipykernel)",
      "language": "python",
      "name": "python3"
    },
    "language_info": {
      "codemirror_mode": {
        "name": "ipython",
        "version": 3
      },
      "file_extension": ".py",
      "mimetype": "text/x-python",
      "name": "python",
      "nbconvert_exporter": "python",
      "pygments_lexer": "ipython3",
      "version": "3.7.11"
    },
    "colab": {
      "name": "01_light_bulb.ipynb",
      "provenance": []
    }
  },
  "cells": [
    {
      "cell_type": "markdown",
      "metadata": {
        "id": "sAk1vAuV-iUM"
      },
      "source": [
        "# Survival Analysis"
      ]
    },
    {
      "cell_type": "markdown",
      "metadata": {
        "id": "CpPcJD3F-iUg"
      },
      "source": [
        "[Run this notebook on Colab](https://colab.research.google.com/github/AllenDowney/SurvivalAnalysisPython/blob/master/01_light_bulb.ipynb)"
      ]
    },
    {
      "cell_type": "markdown",
      "metadata": {
        "id": "kSmeWc_w-iU0"
      },
      "source": [
        "## Introduction\n",
        "\n",
        "This notebook presents four ways to represent a distribution: PMFs, CDFs, survival functions, and hazard functions.\n",
        "\n",
        "These representations are equivalent in the sense that if you are given any of them, you can compute the others.  So you might wonder why we need four ways to represent the same information.  There are two reasons:\n",
        "\n",
        "1. Each representation is useful for computing different values and answering different questions.  In this notebook I'll show you what each representation is good for.\n",
        "\n",
        "2. In some cases we can use a sample to compute a PMF, and use the PMF to compute the other representations.  In other cases it is easier to estimate the hazard function and use it to compute the others.\n",
        "\n",
        "In this notebook I will demonstrate the first process, starting with the PMF.  In the next notebook we'll see the second process, starting with the hazard function."
      ]
    },
    {
      "cell_type": "markdown",
      "metadata": {
        "id": "jQSYr4hb-iVC"
      },
      "source": [
        "## Light bulb lifetimes\n",
        "\n",
        "As a first example, I'll use I'll use data from an experiment that measures the lifetimes of 50 light bulbs.\n",
        "I downloaded the data from from [this gist](https://gist.github.com/epogrebnyak/7933e16c0ad215742c4c104be4fbdeb1), which includes this documentation:\n",
        "\n",
        "```\n",
        "Dataset from:\n",
        "    \n",
        "V.J. Menon and D.C. Agrawal,  Renewal Rate of Filament Lamps: \n",
        "Theory and Experiment. Journal of Failure Analysis and Prevention. \n",
        "December 2007, p. 421, Table 2/\n",
        "DOI: 10.1007/s11668-007-9074-9\n",
        "\n",
        "Description:\n",
        "\n",
        "An assembly of 50 new Philips (India) lamps with the \n",
        "rating 40 W, 220 V (AC) was taken and installed in the horizontal \n",
        "orientation and uniformly distributed over a lab area 11 m by 7 m. \n",
        "\n",
        "The assembly was monitored at regular intervals of 12 h to\n",
        "look for failures. The instants of recorded failures were\n",
        "called t‘ and a total of 32 data points were obtained such\n",
        "that even the last bulb failed. \n",
        "\n",
        "Variables:\n",
        "\n",
        "i - observation number\n",
        "h - time in hours since experiment start\n",
        "f - number of failed lamps at particular time h\n",
        "K - number of surviving lamps  at particular time h\n",
        "```\n",
        "\n",
        "Because of the design of this experiment, we can consider the data to be a representative sample from the distribution of lifetimes, at least for light bulbs that are lit continuously."
      ]
    },
    {
      "cell_type": "markdown",
      "metadata": {
        "id": "Ytq017Sa-iVg"
      },
      "source": [
        "The following cell downloads the data (thanks to Evgeny Pogrebnyak for making it available).  \n",
        "If that fails, you should be able to [get it from my repository](https://github.com/AllenDowney/SurvivalAnalysisPython/raw/master/lamps.csv)."
      ]
    },
    {
      "cell_type": "code",
      "metadata": {
        "id": "aJLThX2d-iVm"
      },
      "source": [
        "import os\n",
        "\n",
        "datafile = 'lamps.csv'\n",
        "if not os.path.exists(datafile):\n",
        "    !wget https://gist.github.com/epogrebnyak/7933e16c0ad215742c4c104be4fbdeb1/raw/c932bc5b6aa6317770c4cbf43eb591511fec08f9/lamps.csv"
      ],
      "execution_count": 12,
      "outputs": []
    },
    {
      "cell_type": "markdown",
      "metadata": {
        "id": "Q8BPMvqy-iV4"
      },
      "source": [
        "We can use Pandas to load the data from the CSV file."
      ]
    },
    {
      "cell_type": "code",
      "metadata": {
        "id": "bOk38KhQ-iWL"
      },
      "source": [
        "import pandas as pd\n",
        "import numpy as np\n",
        "import matplotlib.pyplot as plt"
      ],
      "execution_count": 13,
      "outputs": []
    },
    {
      "cell_type": "code",
      "metadata": {
        "id": "rvq5R7Ky-iWc",
        "outputId": "e9593847-34dd-40ef-b8cb-6590ef9fe9d2",
        "colab": {
          "base_uri": "https://localhost:8080/",
          "height": 235
        }
      },
      "source": [
        "df = pd.read_csv('lamps.csv', index_col=0)\n",
        "df.head()"
      ],
      "execution_count": 14,
      "outputs": [
        {
          "output_type": "execute_result",
          "data": {
            "text/html": [
              "<div>\n",
              "<style scoped>\n",
              "    .dataframe tbody tr th:only-of-type {\n",
              "        vertical-align: middle;\n",
              "    }\n",
              "\n",
              "    .dataframe tbody tr th {\n",
              "        vertical-align: top;\n",
              "    }\n",
              "\n",
              "    .dataframe thead th {\n",
              "        text-align: right;\n",
              "    }\n",
              "</style>\n",
              "<table border=\"1\" class=\"dataframe\">\n",
              "  <thead>\n",
              "    <tr style=\"text-align: right;\">\n",
              "      <th></th>\n",
              "      <th>h</th>\n",
              "      <th>f</th>\n",
              "      <th>K</th>\n",
              "    </tr>\n",
              "    <tr>\n",
              "      <th>i</th>\n",
              "      <th></th>\n",
              "      <th></th>\n",
              "      <th></th>\n",
              "    </tr>\n",
              "  </thead>\n",
              "  <tbody>\n",
              "    <tr>\n",
              "      <th>0</th>\n",
              "      <td>0</td>\n",
              "      <td>0</td>\n",
              "      <td>50</td>\n",
              "    </tr>\n",
              "    <tr>\n",
              "      <th>1</th>\n",
              "      <td>840</td>\n",
              "      <td>2</td>\n",
              "      <td>48</td>\n",
              "    </tr>\n",
              "    <tr>\n",
              "      <th>2</th>\n",
              "      <td>852</td>\n",
              "      <td>1</td>\n",
              "      <td>47</td>\n",
              "    </tr>\n",
              "    <tr>\n",
              "      <th>3</th>\n",
              "      <td>936</td>\n",
              "      <td>1</td>\n",
              "      <td>46</td>\n",
              "    </tr>\n",
              "    <tr>\n",
              "      <th>4</th>\n",
              "      <td>960</td>\n",
              "      <td>1</td>\n",
              "      <td>45</td>\n",
              "    </tr>\n",
              "  </tbody>\n",
              "</table>\n",
              "</div>"
            ],
            "text/plain": [
              "     h  f   K\n",
              "i            \n",
              "0    0  0  50\n",
              "1  840  2  48\n",
              "2  852  1  47\n",
              "3  936  1  46\n",
              "4  960  1  45"
            ]
          },
          "metadata": {},
          "execution_count": 14
        }
      ]
    },
    {
      "cell_type": "markdown",
      "metadata": {
        "id": "uMsYnlfY-iW9"
      },
      "source": [
        "## PMF\n",
        "\n",
        "This dataset is complete in the sense that the experiment ran until all light bulbs failed, so the lifetime for every bulb is known.\n",
        "So we can use the data to estimate the probability mass function (PMF) of lifetimes.\n",
        "\n",
        "To represent a PMF, I'll use a Pandas `Series` with the lifetimes (column `h`) as the index and the number of failures (column `f`) as the values."
      ]
    },
    {
      "cell_type": "code",
      "metadata": {
        "tags": [],
        "id": "84EP5o9F-iXH",
        "outputId": "64c63ce2-5cd3-4b81-9acf-733660babace",
        "colab": {
          "base_uri": "https://localhost:8080/"
        }
      },
      "source": [
        "pmf = df.set_index('h').f\n",
        "pmf.head()"
      ],
      "execution_count": 15,
      "outputs": [
        {
          "output_type": "execute_result",
          "data": {
            "text/plain": [
              "h\n",
              "0      0\n",
              "840    2\n",
              "852    1\n",
              "936    1\n",
              "960    1\n",
              "Name: f, dtype: int64"
            ]
          },
          "metadata": {},
          "execution_count": 15
        }
      ]
    },
    {
      "cell_type": "markdown",
      "metadata": {
        "id": "FUNdr9GC-iXM"
      },
      "source": [
        "To normalize the PMF, we divide through by the total number of lightbulbs."
      ]
    },
    {
      "cell_type": "code",
      "metadata": {
        "tags": [],
        "id": "BILXc81B-iXa"
      },
      "source": [
        "pmf = pmf / pmf.sum()"
      ],
      "execution_count": 16,
      "outputs": []
    },
    {
      "cell_type": "markdown",
      "metadata": {
        "id": "oZStP1XL-iXf"
      },
      "source": [
        "For a given lifetime, `t`, the PMF contains the fraction of lifetimes equal to `t`.\n",
        "For example, we can compute the fraction of light bulbs that lasted 840 hours:"
      ]
    },
    {
      "cell_type": "code",
      "metadata": {
        "tags": [],
        "id": "AUogmmOP-iXq",
        "outputId": "7f28b673-9367-470c-ffc5-30fef8dff203",
        "colab": {
          "base_uri": "https://localhost:8080/"
        }
      },
      "source": [
        "pmf[840]"
      ],
      "execution_count": 17,
      "outputs": [
        {
          "output_type": "execute_result",
          "data": {
            "text/plain": [
              "0.04"
            ]
          },
          "metadata": {},
          "execution_count": 17
        }
      ]
    },
    {
      "cell_type": "markdown",
      "metadata": {
        "id": "igSQ1CZI-iXr"
      },
      "source": [
        "Or the fraction equal to 1524 hours."
      ]
    },
    {
      "cell_type": "code",
      "metadata": {
        "tags": [],
        "id": "PDs2k5DP-iXz",
        "outputId": "7e67ffe1-527f-4fff-9f51-1d70ac10b79c",
        "colab": {
          "base_uri": "https://localhost:8080/"
        }
      },
      "source": [
        "pmf[1524]"
      ],
      "execution_count": 18,
      "outputs": [
        {
          "output_type": "execute_result",
          "data": {
            "text/plain": [
              "0.06"
            ]
          },
          "metadata": {},
          "execution_count": 18
        }
      ]
    },
    {
      "cell_type": "markdown",
      "metadata": {
        "id": "BVW9oKA5-iXz"
      },
      "source": [
        "Here's what the PMF looks like."
      ]
    },
    {
      "cell_type": "code",
      "metadata": {
        "id": "c0mCCWXE-iX9"
      },
      "source": [
        "def decorate(**options):\n",
        "    \"\"\"Decorate the current axes.\n",
        "    Call decorate with keyword arguments like\n",
        "    decorate(title='Title',\n",
        "             xlabel='x',\n",
        "             ylabel='y')\n",
        "    The keyword arguments can be any of the axis properties\n",
        "    https://matplotlib.org/api/axes_api.html\n",
        "    \"\"\"\n",
        "    plt.gca().set(**options)\n",
        "    plt.tight_layout()"
      ],
      "execution_count": null,
      "outputs": []
    },
    {
      "cell_type": "code",
      "metadata": {
        "id": "rOAPH4JK-iX-"
      },
      "source": [
        "pmf.plot()\n",
        "decorate(xlabel='Lifetime (hours)', \n",
        "         ylabel='PMF', \n",
        "         title='PMF of lightbulb lifetimes')"
      ],
      "execution_count": null,
      "outputs": []
    },
    {
      "cell_type": "markdown",
      "metadata": {
        "id": "IV0J0gIs-iYH"
      },
      "source": [
        "This way of visualizing the data can be useful for validation, and it gives a sense of the location and spread of the data.  But it does not make the shape of the distrbution clear.  For that, the CDF is better."
      ]
    },
    {
      "cell_type": "markdown",
      "metadata": {
        "id": "O1hmc41k-iYI"
      },
      "source": [
        "## CDF\n",
        "\n",
        "The Cumulative Distribution Function (CDF) is the cumulative sum of the PMF."
      ]
    },
    {
      "cell_type": "code",
      "metadata": {
        "tags": [],
        "id": "72egZ3WN-iYI"
      },
      "source": [
        ""
      ],
      "execution_count": null,
      "outputs": []
    },
    {
      "cell_type": "markdown",
      "metadata": {
        "id": "JKRlzxly-iYR"
      },
      "source": [
        "For a given lifetime, `t`, the CDF contains the fraction of lifetimes less than or equal to `t`.\n",
        "For example, here is the fraction of light bulbs that expired at or before 840 hours:"
      ]
    },
    {
      "cell_type": "code",
      "metadata": {
        "tags": [],
        "id": "sZw6OKCv-iYR"
      },
      "source": [
        ""
      ],
      "execution_count": null,
      "outputs": []
    },
    {
      "cell_type": "markdown",
      "metadata": {
        "id": "3VFSRrv8-iYW"
      },
      "source": [
        "And the fraction that expired at or before 1524 hours."
      ]
    },
    {
      "cell_type": "code",
      "metadata": {
        "tags": [],
        "id": "dNTLeJae-iYW"
      },
      "source": [
        ""
      ],
      "execution_count": null,
      "outputs": []
    },
    {
      "cell_type": "markdown",
      "metadata": {
        "id": "5CvHfuT4-iYX"
      },
      "source": [
        "Here's what the CDF looks like."
      ]
    },
    {
      "cell_type": "code",
      "metadata": {
        "id": "tyqC67h_-iYg"
      },
      "source": [
        "cdf.plot()\n",
        "decorate(xlabel='Lifetime (hours)', \n",
        "         ylabel='CDF', \n",
        "         title='CDF of lightbulb lifetimes')"
      ],
      "execution_count": null,
      "outputs": []
    },
    {
      "cell_type": "markdown",
      "metadata": {
        "id": "Hv2EPaZo-iYg"
      },
      "source": [
        "In my opinion, the CDF is often the best way to visualize the distribution of a sample.\n",
        "\n",
        "Between 800 and 1800 hours, the CDF is roughly a straight line, which suggests that the distribution is uniform in this range."
      ]
    },
    {
      "cell_type": "markdown",
      "metadata": {
        "id": "w3AMN-vV-iYm"
      },
      "source": [
        "## Survival function\n",
        "\n",
        "The survival function is the complement of the CDF; that is, for a given lifetime, `t`:\n",
        "\n",
        "* The CDF is the fraction of the population less than or equal to `t`.\n",
        "\n",
        "* The survival function is the fraction (strictly) greater than `t`.\n",
        "\n",
        "We can compute the survival function like this:"
      ]
    },
    {
      "cell_type": "code",
      "metadata": {
        "tags": [],
        "id": "aEXgjWk9-iYn"
      },
      "source": [
        ""
      ],
      "execution_count": null,
      "outputs": []
    },
    {
      "cell_type": "markdown",
      "metadata": {
        "id": "-IED6WIS-iYn"
      },
      "source": [
        "We can use `surv` to compute the fraction of lightbulbs that live longer than 1524 hours:"
      ]
    },
    {
      "cell_type": "code",
      "metadata": {
        "tags": [],
        "id": "ucAnrEKb-iYo"
      },
      "source": [
        ""
      ],
      "execution_count": null,
      "outputs": []
    },
    {
      "cell_type": "markdown",
      "metadata": {
        "id": "0NfQ1iFs-iYo"
      },
      "source": [
        "If we plot the survival function along with the CDF, we can see that they are complements."
      ]
    },
    {
      "cell_type": "code",
      "metadata": {
        "id": "nmKFl0Fa-iYo"
      },
      "source": [
        "cdf.plot(color='gray', alpha=0.4)\n",
        "surv.plot()\n",
        "decorate(xlabel='Lifetime (hours)', \n",
        "         ylabel='Prob(lifetime>t)', \n",
        "         title='Survival function of lightbulb lifetimes')"
      ],
      "execution_count": null,
      "outputs": []
    },
    {
      "cell_type": "markdown",
      "metadata": {
        "id": "ZSu19aZN-iYt"
      },
      "source": [
        "It might not be obvious why the survival function is useful.  Given the CDF and a little arithmetic, we can answer all of the same questions.\n",
        "\n",
        "There are two reasons:\n",
        "\n",
        "* In some domains it is more natural, or at least conventional, to represent distributions in terms of survival rates.\n",
        "\n",
        "* The survival function is a step on the way to the hazard function, which we'll get to now."
      ]
    },
    {
      "cell_type": "markdown",
      "metadata": {
        "id": "BkOkb4xO-iYu"
      },
      "source": [
        "## Hazard function\n",
        "\n",
        "For a given lifetime `t`, the hazard function computes the \"hazard rate\" at `t`.  Using the vocabulary of the light bulb example, the hazard rate is the fraction of light bulbs that survive until `t` and then fail at `t`.\n",
        "\n",
        "We can compute the hazard rate by computing these quantities:\n",
        "\n",
        "* `pmf(t)` is the fraction of light bulbs that fail at `t`.\n",
        "\n",
        "* `surv(t)` is the fraction of light bulbs that live longer than `t`.\n",
        "\n",
        "* The sum, `pmf(t) + surv(t)` is the fraction that survive until `t`. \n",
        "\n",
        "So the hazard rate is the ratio of `pmf(t)` to the sum `pmf(t) + surv(t)`.\n",
        "We can compute it like this:"
      ]
    },
    {
      "cell_type": "code",
      "metadata": {
        "tags": [],
        "id": "y2j4AqTL-iYu"
      },
      "source": [
        ""
      ],
      "execution_count": null,
      "outputs": []
    },
    {
      "cell_type": "markdown",
      "metadata": {
        "id": "piFT_dAa-iYz"
      },
      "source": [
        "Here's what the hazard function looks like:"
      ]
    },
    {
      "cell_type": "code",
      "metadata": {
        "id": "Ldt7yh5X-iYz"
      },
      "source": [
        "haz.plot()\n",
        "decorate(xlabel='Lifetime (hours)', \n",
        "         ylabel='Hazard rate', \n",
        "         title='Hazard function of lightbulb lifetimes')"
      ],
      "execution_count": null,
      "outputs": []
    },
    {
      "cell_type": "markdown",
      "metadata": {
        "id": "lAZpswzA-iY0"
      },
      "source": [
        "With this kind of data, plotting the hazard function does not provide a clear picture of what's happening.  There are two problems:\n",
        "\n",
        "1) The plot shows spikes at the locations of the data, but it is hard to see the shape of the curve.\n",
        "\n",
        "2) The large values on the right are unreliable because they are based on a small number of values.\n",
        "\n",
        "To explain the second point, let's look at the last few rows of the failure column, `f`:"
      ]
    },
    {
      "cell_type": "code",
      "metadata": {
        "id": "94iAdK-Q-iY0"
      },
      "source": [
        "df.tail()"
      ],
      "execution_count": null,
      "outputs": []
    },
    {
      "cell_type": "markdown",
      "metadata": {
        "id": "EzTpzQPT-iY0"
      },
      "source": [
        "We can see that one bulb failed at each of 1812, 1836, 1860, 1980, and 2568 hours.\n",
        "\n",
        "So the last value of the hazard function is based on only one bulb; the second-to-last point is based on 2 bulbs; and so on."
      ]
    },
    {
      "cell_type": "markdown",
      "metadata": {
        "id": "bRXEjwoO-iY1"
      },
      "source": [
        "## The cumulative hazard function\n",
        "\n",
        "To get a better sense for the shape of the curve, we can plot the cumulative hazard function, like this:"
      ]
    },
    {
      "cell_type": "code",
      "metadata": {
        "id": "mrYgWP8K-iY1"
      },
      "source": [
        "haz.cumsum().plot()\n",
        "\n",
        "decorate(xlabel='Lifetime (hours)', \n",
        "         ylabel='Cumulative hazard rate', \n",
        "         title='Hazard function of lightbulb lifetimes')"
      ],
      "execution_count": null,
      "outputs": []
    },
    {
      "cell_type": "markdown",
      "metadata": {
        "id": "lGPaZF32-iY2"
      },
      "source": [
        "The slope of the cumulative hazard function is proportional to the hazard rate, so we can use this curve to see when the hazard rate is low or high, and when it is increasing or decreasing.\n",
        "\n",
        "Between 0 and 1000 hours, the slope is low, so the hazard rate is low.\n",
        "\n",
        "Between 1000 and 2000 hours, the slope is increasing, so the hazard rate is increasing."
      ]
    },
    {
      "cell_type": "markdown",
      "metadata": {
        "id": "vqnVikBj-iY2"
      },
      "source": [
        "But notice that the vertical scale goes to 4.  You might wonder that that means; the answer is \"not much\".\n",
        "\n",
        "The values of the hazard function are rates, that is, percentages of light bulbs that expire at each point in time.  When you add up these rates, the result does not have a clear interpretation.  \n",
        "\n",
        "When you look at a cumulative hazard function, you should pay attention to the slope of the curve and ignore the values."
      ]
    },
    {
      "cell_type": "markdown",
      "metadata": {
        "id": "gyxlevMq-iY6"
      },
      "source": [
        "## Resampling\n",
        "\n",
        "In the previous section, I suggested that we have to be careful not to overinterpret the right side of the hazard function, because it is based on a small number of data points.\n",
        "\n",
        "To see how precise the estimated hazard function is, we can use resampling.\n",
        "\n",
        "First I will use the Pmf of lifetimes to make a kernel density estimate (KDE) of the distribution."
      ]
    },
    {
      "cell_type": "code",
      "metadata": {
        "id": "K5tgONRb-iY7"
      },
      "source": [
        "from scipy.stats import gaussian_kde\n",
        "    \n",
        "kde = gaussian_kde(pmf.index, weights=pmf)\n",
        "size = df['f'].sum()"
      ],
      "execution_count": null,
      "outputs": []
    },
    {
      "cell_type": "markdown",
      "metadata": {
        "id": "S9kZih9e-iY8"
      },
      "source": [
        "We can use the KDE to draw a new sample of lifetimes, with the same size as the original data set, like this."
      ]
    },
    {
      "cell_type": "code",
      "metadata": {
        "id": "bEXc9TjQ-iY9"
      },
      "source": [
        "sample = kde.resample(size).flatten()\n",
        "sample.shape"
      ],
      "execution_count": null,
      "outputs": []
    },
    {
      "cell_type": "markdown",
      "metadata": {
        "id": "x8qbTlW1-iY9"
      },
      "source": [
        "The following function takes a sample and computes its PMF, CDF, survival function, and hazard function."
      ]
    },
    {
      "cell_type": "code",
      "metadata": {
        "id": "FFhObbId-iY9"
      },
      "source": [
        "def make_hazard(sample):\n",
        "    pmf = pd.Series(sample).value_counts(normalize=True).sort_index()    \n",
        "    cdf = pmf.cumsum()\n",
        "    surv = 1 - cdf\n",
        "    haz = pmf / (pmf + surv)\n",
        "    return pmf, cdf, surv, haz"
      ],
      "execution_count": null,
      "outputs": []
    },
    {
      "cell_type": "markdown",
      "metadata": {
        "id": "TSB3HZ4X-iY-"
      },
      "source": [
        "I'll generate 100 samples and plot their survival functions."
      ]
    },
    {
      "cell_type": "code",
      "metadata": {
        "id": "jLG2z7xo-iY-"
      },
      "source": [
        "for i in range(100):\n",
        "    sample = kde.resample(size).flatten()\n",
        "    _, _, sf, _ = make_hazard(sample)\n",
        "    sf.plot(color='gray', alpha=0.1)\n",
        "    \n",
        "surv.plot()\n",
        "decorate(xlabel='Lifetime (hours)', \n",
        "         ylabel='Prob(lifetime>t)', \n",
        "         title='Survival function of lightbulb lifetimes')"
      ],
      "execution_count": null,
      "outputs": []
    },
    {
      "cell_type": "markdown",
      "metadata": {
        "id": "uOqqulCA-iY_"
      },
      "source": [
        "By plotting the resampled survival functions on top of each other, we can get a sense of how much the results vary due to random sampling.\n",
        "\n",
        "We can do the same thing with the hazard function:"
      ]
    },
    {
      "cell_type": "code",
      "metadata": {
        "id": "EO-GCzd7-iY_"
      },
      "source": [
        "for i in range(100):\n",
        "    sample = kde.resample(size).flatten()\n",
        "    _, _, _, hf = make_hazard(sample)\n",
        "    hf.cumsum().plot(color='gray', alpha=0.1)\n",
        "\n",
        "haz.cumsum().plot()\n",
        "\n",
        "decorate(xlabel='Lifetime (hours)', \n",
        "         ylabel='Cumulative hazard rate', \n",
        "         title='Hazard function of lightbulb lifetimes')"
      ],
      "execution_count": null,
      "outputs": []
    },
    {
      "cell_type": "markdown",
      "metadata": {
        "id": "CIZQt_cI-iZA"
      },
      "source": [
        "This plot gives us a sense of which parts of the cumulative hazard function are reliable and which are not.\n",
        "\n",
        "Below 2000 hours, all of the resampled curves are similar; they increase with increasing slope.\n",
        "\n",
        "After that, the variability of the curves is much wider, which means we don't have enough data to characterize this part of the hazard function."
      ]
    },
    {
      "cell_type": "markdown",
      "metadata": {
        "id": "N9xOwRsm-iZB"
      },
      "source": [
        "## Summary\n",
        "\n",
        "We have seen four ways to represent a distribution of lifetimes:\n",
        "\n",
        "* Probability mass function (PMF), which maps from each value in the distribution to its probability.\n",
        "\n",
        "* Cumulative distribution function (CDF), which maps from each value, `x`, to its cumulative probability, that is, the probability of being less than or equal to `x`.\n",
        "\n",
        "* Survival function, which is the complement of the CDF; that is, the probability of exceeding `x`.\n",
        "\n",
        "* Hazard function, which is the number of failures at `x` as a fraction of the number of cases that survive until `x`.\n",
        "\n",
        "These representations are equivalent in the sense that they all contain the same information.  Given any of them, we can compute any of the others.\n",
        "\n",
        "In this notebook, we computed the `Pmf` directly from the data, then computed the `Cdf`, survival function, and hazard function, in that order.\n",
        "\n",
        "In the next notebook we will use these representations to deal with a case where we cannot compute the PMF directly from the data."
      ]
    },
    {
      "cell_type": "markdown",
      "metadata": {
        "id": "kX-_m1m8-iZC"
      },
      "source": [
        "Part of [Survival Analysis in Python](https://allendowney.github.io/SurvivalAnalysisPython/)\n",
        "\n",
        "Allen B. Downey\n",
        "\n",
        "[Attribution-NonCommercial-ShareAlike 4.0 International (CC BY-NC-SA 4.0)](https://creativecommons.org/licenses/by-nc-sa/4.0/)"
      ]
    }
  ]
}